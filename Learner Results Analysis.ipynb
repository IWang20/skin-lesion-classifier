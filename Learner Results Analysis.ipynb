{
 "cells": [
  {
   "cell_type": "code",
   "execution_count": 54,
   "id": "95df0474-0435-4d64-b0cd-014028b7901e",
   "metadata": {},
   "outputs": [],
   "source": [
    "import pandas as pd\n",
    "\n",
    "df = pd.read_csv(\n",
    "    r\"C:\\Users\\arvin\\Downloads\\learner_results_unfreeze_last_2.csv\")"
   ]
  },
  {
   "cell_type": "code",
   "execution_count": 47,
   "id": "a4309d1b-469c-4d2f-99a2-d0a58a1a6cf0",
   "metadata": {},
   "outputs": [],
   "source": [
    "skin_tone_order = ['Very Light', 'Light', 'Tan', 'Intermediate', 'Brown', 'Dark']\n",
    "\n",
    "df['skin_tone'] = pd.Categorical(df['skin_tone'],\n",
    "                                          categories=skin_tone_order,\n",
    "                                          ordered=True)"
   ]
  },
  {
   "cell_type": "code",
   "execution_count": 55,
   "id": "b441d56a-685e-4cff-bf8d-3fc3afac69dc",
   "metadata": {},
   "outputs": [
    {
     "name": "stdout",
     "output_type": "stream",
     "text": [
      "Error percentage by skin tone:\n",
      "\n",
      "skin_tone\n",
      "Brown           14.95\n",
      "Dark            16.21\n",
      "Intermediate    18.58\n",
      "Light            2.56\n",
      "Tan             19.74\n",
      "Name: error_percentage, dtype: float64\n",
      "\n",
      "Overall error percentage:\n",
      "16.64%\n"
     ]
    }
   ],
   "source": [
    "target_percentages = (\n",
    "    df.groupby('skin_tone', observed=False)['target']\n",
    "    .mean()\n",
    "    .mul(100)\n",
    "    .round(2)\n",
    "    .rename('error_percentage')\n",
    ")\n",
    "\n",
    "overall_error_percentage = (\n",
    "    df['target'].mean() * 100\n",
    ").round(2)\n",
    "\n",
    "print(\"Error percentage by skin tone:\\n\")\n",
    "print(target_percentages)\n",
    "print(\"\\nOverall error percentage:\")\n",
    "print(f\"{overall_error_percentage}%\")\n"
   ]
  },
  {
   "cell_type": "code",
   "execution_count": 49,
   "id": "1ffffbde-a913-423c-967b-69e725b85e9d",
   "metadata": {},
   "outputs": [
    {
     "name": "stdout",
     "output_type": "stream",
     "text": [
      "              Error Count  Percentage of Total Dataset\n",
      "skin_tone                                             \n",
      "Very Light              0                         0.00\n",
      "Light                   1                         0.05\n",
      "Tan                   106                         5.39\n",
      "Intermediate           47                         2.39\n",
      "Brown                 132                         6.72\n",
      "Dark                   41                         2.09\n"
     ]
    }
   ],
   "source": [
    "df_positive = df[df['target'] == 1]\n",
    "\n",
    "\n",
    "error_counts = df_positive['skin_tone'].value_counts().reindex(skin_tone_order)\n",
    "\n",
    "\n",
    "total = len(df)\n",
    "\n",
    "\n",
    "summary = pd.DataFrame({\n",
    "    'Error Count': error_counts,\n",
    "    'Percentage of Total Dataset': (error_counts / total * 100).round(2)\n",
    "})\n",
    "\n",
    "print(summary)"
   ]
  },
  {
   "cell_type": "code",
   "execution_count": 45,
   "id": "51634cb0-0ac5-4ef7-a1e9-752c92d46170",
   "metadata": {},
   "outputs": [
    {
     "name": "stdout",
     "output_type": "stream",
     "text": [
      "Chi-Square Statistic: 11.8276\n",
      "P-value: 0.0187\n",
      "Degrees of Freedom: 4\n",
      "Expected Frequencies:\n",
      "[[ 32.50992366   6.49007634]\n",
      " [447.63664122  89.36335878]\n",
      " [210.89770992  42.10229008]\n",
      " [736.05801527 146.94198473]\n",
      " [210.89770992  42.10229008]]\n",
      "\n",
      "Groups skipped due to insufficient data (< 2 non-null target values):\n",
      "- Very Light\n"
     ]
    }
   ],
   "source": [
    "from scipy.stats import chi2_contingency\n",
    "import pandas as pd\n",
    "\n",
    "valid_groups = []\n",
    "invalid_group_names = []\n",
    "\n",
    "# Grouping by 'skin_tone' and checking for valid groups\n",
    "for name, group in df.groupby('skin_tone', observed=False):\n",
    "    targets = group['target'].dropna().values\n",
    "    if len(targets) >= 2:\n",
    "        valid_groups.append(targets)\n",
    "    else:\n",
    "        invalid_group_names.append(name)\n",
    "\n",
    "# Perform Chi-Square test if there are at least 2 valid groups\n",
    "if len(valid_groups) >= 2:\n",
    "    # Create a contingency table for the Chi-Square test\n",
    "    contingency_table = pd.crosstab(df['skin_tone'], df['target'])\n",
    "    \n",
    "    # Chi-square test of independence\n",
    "    chi2_stat, p_val, dof, expected = chi2_contingency(contingency_table)\n",
    "    \n",
    "    print(f\"Chi-Square Statistic: {chi2_stat:.4f}\")\n",
    "    print(f\"P-value: {p_val:.4f}\")\n",
    "    print(f\"Degrees of Freedom: {dof}\")\n",
    "    print(f\"Expected Frequencies:\\n{expected}\")\n",
    "else:\n",
    "    print(\"Not enough valid groups to run the Chi-Square test.\")\n",
    "\n",
    "# Print groups that were skipped due to insufficient data\n",
    "if invalid_group_names:\n",
    "    print(\"\\nGroups skipped due to insufficient data (< 2 non-null target values):\")\n",
    "    for name in invalid_group_names:\n",
    "        print(f\"- {name}\")\n",
    "\n"
   ]
  },
  {
   "cell_type": "code",
   "execution_count": 7,
   "id": "b08d8efe-cd3f-4ff9-a621-2d42bf4da322",
   "metadata": {},
   "outputs": [
    {
     "data": {
      "image/png": "[encoded data removed]",
      "text/plain": [
       "<Figure size 800x500 with 1 Axes>"
      ]
     },
     "metadata": {},
     "output_type": "display_data"
    }
   ],
   "source": [
    "import matplotlib.pyplot as plt\n",
    "\n",
    "# Count the number of samples per skin tone category\n",
    "skin_tone_counts = df['skin_tone'].value_counts().reindex([\n",
    "    'Very Light', 'Light', 'Intermediate', 'Tan', 'Brown', 'Dark'\n",
    "])\n",
    "\n",
    "# Plot\n",
    "plt.figure(figsize=(8, 5))\n",
    "plt.bar(skin_tone_counts.index, skin_tone_counts.values, color='skyblue')\n",
    "\n",
    "plt.title('Sample Count by Skin Tone Category')\n",
    "plt.xlabel('Skin Tone Category')\n",
    "plt.ylabel('Count')\n",
    "plt.xticks(rotation=30)\n",
    "plt.tight_layout()\n",
    "plt.show()"
   ]
  },
  {
   "cell_type": "code",
   "execution_count": 50,
   "id": "c41eb5ff-b8b5-486a-92b2-23a32864c5f7",
   "metadata": {},
   "outputs": [
    {
     "name": "stdout",
     "output_type": "stream",
     "text": [
      "Chi-squared Statistic: 0.6453\n",
      "P-value: 0.4218\n"
     ]
    }
   ],
   "source": [
    "import pandas as pd\n",
    "from scipy.stats import chi2_contingency\n",
    "\n",
    "# Create a contingency table (cross-tabulation of sex vs target)\n",
    "contingency_table = pd.crosstab(df['sex'], df['target'])\n",
    "\n",
    "# Perform chi-squared test of independence\n",
    "chi2_stat, p_val, dof, expected = chi2_contingency(contingency_table)\n",
    "\n",
    "print(f\"Chi-squared Statistic: {chi2_stat:.4f}\")\n",
    "print(f\"P-value: {p_val:.4f}\")"
   ]
  },
  {
   "cell_type": "code",
   "execution_count": 51,
   "id": "fde0a30a-8c25-4b8c-9a67-ec0b85776a37",
   "metadata": {},
   "outputs": [],
   "source": [
    "import numpy as np\n",
    "\n",
    "def categorize_age(age):\n",
    "    if age < 20:\n",
    "        return 'Teen'\n",
    "    elif 20 <= age <= 29:\n",
    "        return 'twenties'\n",
    "    elif 30 <= age <= 39:\n",
    "        return 'thirties'\n",
    "    elif 40 <= age <= 49:\n",
    "        return 'forties'\n",
    "    elif 50 <= age <= 59:\n",
    "        return 'fifties'\n",
    "    elif 60 <= age <= 69:\n",
    "        return 'sixties'\n",
    "    elif 70 <= age <= 79:\n",
    "        return 'seventies'\n",
    "    else:\n",
    "        return 'eighties'\n",
    "\n",
    "\n",
    "df['age_range'] = df['age'].apply(categorize_age)\n",
    "\n",
    "age_order = ['teen', 'twenties', 'thirties', 'forties', 'fifties', 'sixties', 'seventies', 'eighties']\n",
    "\n",
    "df['age_range'] = pd.Categorical(df['age_range'],\n",
    "                                          categories=age_order,\n",
    "                                          ordered=True)\n"
   ]
  },
  {
   "cell_type": "code",
   "execution_count": 53,
   "id": "e5da8474-086f-4630-a889-43db0ac19307",
   "metadata": {},
   "outputs": [
    {
     "name": "stdout",
     "output_type": "stream",
     "text": [
      "Chi-Square Statistic: 41.9807\n",
      "P-value: 0.00000019\n",
      "Degrees of Freedom: 6\n",
      "Expected Frequencies:\n",
      "[[ 20.83757637   4.16242363]\n",
      " [ 88.35132383  17.64867617]\n",
      " [225.8793279   45.1206721 ]\n",
      " [386.74541752  77.25458248]\n",
      " [460.09368635  91.90631365]\n",
      " [299.22759674  59.77240326]\n",
      " [155.86507128  31.13492872]]\n",
      "\n",
      "Groups skipped due to insufficient data (< 2 non-null target values):\n",
      "- teen\n"
     ]
    }
   ],
   "source": [
    "from scipy.stats import chi2_contingency\n",
    "import pandas as pd\n",
    "\n",
    "valid_groups = []\n",
    "invalid_group_names = []\n",
    "\n",
    "# Grouping by 'skin_tone' and checking for valid groups\n",
    "for name, group in df.groupby('age_range', observed=False):\n",
    "    targets = group['target'].dropna().values\n",
    "    if len(targets) >= 2:\n",
    "        valid_groups.append(targets)\n",
    "    else:\n",
    "        invalid_group_names.append(name)\n",
    "\n",
    "# Perform Chi-Square test if there are at least 2 valid groups\n",
    "if len(valid_groups) >= 2:\n",
    "    # Create a contingency table for the Chi-Square test\n",
    "    contingency_table = pd.crosstab(df['age_range'], df['target'])\n",
    "    \n",
    "    # Chi-square test of independence\n",
    "    chi2_stat, p_val, dof, expected = chi2_contingency(contingency_table)\n",
    "    \n",
    "    print(f\"Chi-Square Statistic: {chi2_stat:.4f}\")\n",
    "    print(f\"P-value: {p_val:.8f}\")\n",
    "    print(f\"Degrees of Freedom: {dof}\")\n",
    "    print(f\"Expected Frequencies:\\n{expected}\")\n",
    "else:\n",
    "    print(\"Not enough valid groups to run the Chi-Square test.\")\n",
    "\n",
    "# Print groups that were skipped due to insufficient data\n",
    "if invalid_group_names:\n",
    "    print(\"\\nGroups skipped due to insufficient data (< 2 non-null target values):\")\n",
    "    for name in invalid_group_names:\n",
    "        print(f\"- {name}\")"
   ]
  },
  {
   "cell_type": "code",
   "execution_count": 10,
   "id": "6d2ab41c-2c16-42b3-bc5e-45cbe9de19ef",
   "metadata": {},
   "outputs": [
    {
     "data": {
      "image/png": "[encoded data removed]",
      "text/plain": [
       "<Figure size 800x500 with 1 Axes>"
      ]
     },
     "metadata": {},
     "output_type": "display_data"
    }
   ],
   "source": [
    "import matplotlib.pyplot as plt\n",
    "\n",
    "# Count the number of samples per skin tone category\n",
    "age_counts = df['age_range'].value_counts().reindex(['teen', 'twenties', 'thirties', 'forties', 'fifties', 'sixties', 'seventies', 'eighties'])\n",
    "\n",
    "# Plot\n",
    "plt.figure(figsize=(8, 5))\n",
    "plt.bar(age_counts.index, age_counts.values, color='skyblue')\n",
    "\n",
    "plt.title('Sample Count by Age Range')\n",
    "plt.xlabel('Age Range')\n",
    "plt.ylabel('Count')\n",
    "plt.xticks(rotation=30)\n",
    "plt.tight_layout()\n",
    "plt.show()"
   ]
  },
  {
   "cell_type": "code",
   "execution_count": 13,
   "id": "9e85f814-e7be-49c4-893a-46397bce2000",
   "metadata": {},
   "outputs": [
    {
     "name": "stdout",
     "output_type": "stream",
     "text": [
      "Kruskal-Wallis H-statistic: 4.0339\n",
      "P-value: 0.4014\n",
      "\n",
      "Groups skipped due to insufficient data (< 2 non-null target values):\n",
      "- Very Light\n"
     ]
    }
   ],
   "source": [
    "from scipy.stats import kruskal\n",
    "\n",
    "valid_groups = []\n",
    "invalid_group_names = []\n",
    "\n",
    "\n",
    "for name, group in df.groupby('skin_tone', observed=False):\n",
    "    targets = group['target'].dropna().values\n",
    "    if len(targets) >= 2:\n",
    "        valid_groups.append(targets)\n",
    "    else:\n",
    "        invalid_group_names.append(name)\n",
    "\n",
    "\n",
    "if len(valid_groups) >= 2:\n",
    "    h_stat, p_val = kruskal(*valid_groups)\n",
    "    print(f\"Kruskal-Wallis H-statistic: {h_stat:.4f}\")\n",
    "    print(f\"P-value: {p_val:.4f}\")\n",
    "else:\n",
    "    print(\"Not enough valid groups to run Kruskal-Wallis test.\")\n",
    "\n",
    "\n",
    "if invalid_group_names:\n",
    "    print(\"\\nGroups skipped due to insufficient data (< 2 non-null target values):\")\n",
    "    for name in invalid_group_names:\n",
    "        print(f\"- {name}\")"
   ]
  },
  {
   "cell_type": "code",
   "execution_count": null,
   "id": "1ef12d71-244e-4b43-8dde-a7d6b0e97b6d",
   "metadata": {},
   "outputs": [],
   "source": []
  }
 ],
 "metadata": {
  "kernelspec": {
   "display_name": "Python 3 (ipykernel)",
   "language": "python",
   "name": "python3"
  },
  "language_info": {
   "codemirror_mode": {
    "name": "ipython",
    "version": 3
   },
   "file_extension": ".py",
   "mimetype": "text/x-python",
   "name": "python",
   "nbconvert_exporter": "python",
   "pygments_lexer": "ipython3",
   "version": "3.13.0"
  }
 },
 "nbformat": 4,
 "nbformat_minor": 5
}
